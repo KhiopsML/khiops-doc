{
 "cells": [
  {
   "cell_type": "markdown",
   "metadata": {},
   "source": [
    "# Simple Classifier\n",
    "In this lesson, we will learn how to train, evaluate and deploy a classifier with pyKhiops sklearn.\n",
    "\n",
    "We start by importing pyKhiops sklearn classifier `KhiopsClassifier` and saving the location of the Khiops `Samples` directory into a variable:"
   ]
  },
  {
   "cell_type": "code",
   "execution_count": null,
   "metadata": {},
   "outputs": [],
   "source": [
    "from os import path\n",
    "import pandas as pd\n",
    "\n",
    "from khiops import core as kh\n",
    "from khiops.sklearn import KhiopsClassifier\n",
    "\n",
    "samples_dir = kh.get_runner().samples_dir\n",
    "print(f\"Khiops samples directory located at {samples_dir}\")"
   ]
  },
  {
   "cell_type": "markdown",
   "metadata": {},
   "source": [
    "## Training a Classifier\n",
    "\n",
    "We'll train a classifier for the `Iris` dataset. This is a classical dataset containing data of different plants belonging to the genus _Iris_. It contains 150 records, 50 for each of the three _Iris_'s variants: _Setosa_, _Virginica_ and _Versicolor_. Each record contains the length and the width of both the petal and the sepal of the plant. The standard task, when using this dataset, is to construct a classifier for the type of the _Iris_, based on the petal and sepal characteristics.\n",
    "\n",
    "To train a classifier with Khiops, we only need a dataframe that we are going to load from a file. \n",
    "\n",
    "Let's first save the location of this file into a variable `iris_data_file`, load it and take a look at its content:"
   ]
  },
  {
   "cell_type": "code",
   "execution_count": null,
   "metadata": {},
   "outputs": [],
   "source": [
    "iris_data_file = path.join(samples_dir, \"Iris\", \"Iris.txt\")\n",
    "print(\"\")\n",
    "print(f\"Iris data: 10 first records\")\n",
    "iris_df = pd.read_csv(iris_data_file, sep=\"\\t\")\n",
    "iris_df.head()"
   ]
  },
  {
   "cell_type": "markdown",
   "metadata": {},
   "source": [
    "Before training the classifier, we split the data  into the feature matrix (sepal length, width, etc) and the target vector containing the labels (the `Class` column)."
   ]
  },
  {
   "cell_type": "code",
   "execution_count": null,
   "metadata": {},
   "outputs": [],
   "source": [
    "X_iris_train = iris_df.drop(\"Class\", axis=1)\n",
    "y_iris_train = iris_df[\"Class\"]"
   ]
  },
  {
   "cell_type": "markdown",
   "metadata": {},
   "source": [
    "Let's check the contents of the feature matrix and the target vector:"
   ]
  },
  {
   "cell_type": "code",
   "execution_count": null,
   "metadata": {},
   "outputs": [],
   "source": [
    "print(\"Features of the Iris dataset:\")\n",
    "display(X_iris_train.head())\n",
    "print(\"\")\n",
    "print(\"Label of the Iris dataset:\")\n",
    "display(y_iris_train.head())"
   ]
  },
  {
   "cell_type": "markdown",
   "metadata": {},
   "source": [
    "Let's now train the classifier with the pyKhiops function `KhiopsClassifier`. This method returns a model ready to classify new Iris plants.\n",
    "\n",
    "*Note: By default Khiops builds 10 decision trees. This is not necessary for this tutorial so we set `n_trees=0`*"
   ]
  },
  {
   "cell_type": "code",
   "execution_count": null,
   "metadata": {},
   "outputs": [],
   "source": [
    "pkc_iris = KhiopsClassifier(n_trees=0)\n",
    "pkc_iris.fit(X_iris_train, y_iris_train)"
   ]
  },
  {
   "cell_type": "markdown",
   "metadata": {},
   "source": [
    "### Exercise\n",
    "\n",
    "\n",
    "We'll repeat the same steps with the `Adult` dataset. It contains characteristics of a adult population in the USA such as age, gender and education. The task here is to predict the variable `class` which indicates if the individual earns `more` or `less` than 50,000 dollars.\n",
    "\n",
    "Let's start by loading the `Adult` dataframe and checking its contents:"
   ]
  },
  {
   "cell_type": "markdown",
   "metadata": {},
   "source": [
    "#### Load the adult dataset and take a look at its content"
   ]
  },
  {
   "cell_type": "code",
   "execution_count": null,
   "metadata": {
    "is_khiops_tutorial_solution": true
   },
   "outputs": [],
   "source": [
    "adult_data_file = path.join(samples_dir, \"Adult\", \"Adult.txt\")\n",
    "print(\"\")\n",
    "print(f\"Adult data: 10 first records\")\n",
    "adult_df = pd.read_csv(adult_data_file, sep=\"\\t\")\n",
    "adult_df.head()"
   ]
  },
  {
   "cell_type": "markdown",
   "metadata": {},
   "source": [
    "#### Build the feature matrix and the the target vector to train the `Adult` classifier\n",
    "Note that the name of the target variable is `class` (**in lower case!**). "
   ]
  },
  {
   "cell_type": "code",
   "execution_count": null,
   "metadata": {
    "is_khiops_tutorial_solution": true
   },
   "outputs": [],
   "source": [
    "X_adult_train = adult_df.drop([\"class\"], axis=1)\n",
    "y_adult_train = adult_df[\"class\"]\n",
    "print(\"Adult dataset feature matrix (first 10 rows):\")\n",
    "display(X_adult_train.head(10))\n",
    "print(\"\")\n",
    "print(\"Adult dataset target vector (first 10 values):\")\n",
    "display(y_adult_train.head(10))"
   ]
  },
  {
   "cell_type": "markdown",
   "metadata": {},
   "source": [
    "#### Train a classifier for the `Adult` dataset\n",
    "Do not forget to set `n_trees=0`"
   ]
  },
  {
   "cell_type": "code",
   "execution_count": null,
   "metadata": {
    "is_khiops_tutorial_solution": true
   },
   "outputs": [],
   "source": [
    "pkc_adult = KhiopsClassifier(n_trees=0)\n",
    "pkc_adult.fit(X_adult_train, y_adult_train)"
   ]
  },
  {
   "cell_type": "markdown",
   "metadata": {},
   "source": [
    "## Accessing the Classifier' Basic Train Evaluation Metrics\n",
    "\n",
    "Khiops calculates evaluation metrics for the training dataset. We access them via the model's attribute `model_report` which is an instance of the `AnalysisResults` class. Let's check this out:"
   ]
  },
  {
   "cell_type": "code",
   "execution_count": null,
   "metadata": {},
   "outputs": [],
   "source": [
    "iris_results = pkc_iris.model_report_\n",
    "print(type(iris_results))"
   ]
  },
  {
   "cell_type": "markdown",
   "metadata": {},
   "source": [
    "The model evaluation report is stored in the `train_evaluation_report` attribute of `iris_results`."
   ]
  },
  {
   "cell_type": "code",
   "execution_count": null,
   "metadata": {},
   "outputs": [],
   "source": [
    "iris_train_eval = iris_results.train_evaluation_report\n",
    "print(type(iris_train_eval))"
   ]
  },
  {
   "cell_type": "markdown",
   "metadata": {},
   "source": [
    "We access the default predictor's metrics with the `get_snb_performance` method of `iris_train_eval`:"
   ]
  },
  {
   "cell_type": "code",
   "execution_count": null,
   "metadata": {},
   "outputs": [],
   "source": [
    "iris_train_performance = iris_train_eval.get_snb_performance()\n",
    "print(type(iris_train_performance))"
   ]
  },
  {
   "cell_type": "markdown",
   "metadata": {},
   "source": [
    "This object `iris_train_performance` is of class `PredictorPerformance` and has `accuracy` and `auc` attributes:"
   ]
  },
  {
   "cell_type": "code",
   "execution_count": null,
   "metadata": {},
   "outputs": [],
   "source": [
    "print(f\"Iris train accuracy: {iris_train_performance.accuracy}\")\n",
    "print(f\"Iris train AUC     : {iris_train_performance.auc}\")"
   ]
  },
  {
   "cell_type": "markdown",
   "metadata": {},
   "source": [
    "The `PredictorPerformance` object has also a confusion matrix attribute:"
   ]
  },
  {
   "cell_type": "code",
   "execution_count": null,
   "metadata": {},
   "outputs": [],
   "source": [
    "iris_classes = iris_train_performance.confusion_matrix.values\n",
    "iris_confusion_matrix = pd.DataFrame(\n",
    "    iris_train_performance.confusion_matrix.matrix,\n",
    "    columns=iris_classes,\n",
    "    index=iris_classes,\n",
    ")\n",
    "print(\"Iris train confusion matrix:\")\n",
    "iris_confusion_matrix"
   ]
  },
  {
   "cell_type": "markdown",
   "metadata": {},
   "source": [
    "### Exercise\n",
    "#### Access the adult modeling report and print its type"
   ]
  },
  {
   "cell_type": "code",
   "execution_count": null,
   "metadata": {
    "is_khiops_tutorial_solution": true
   },
   "outputs": [],
   "source": [
    "adult_results = pkc_adult.model_report_\n",
    "type(adult_results)"
   ]
  },
  {
   "cell_type": "markdown",
   "metadata": {},
   "source": [
    "#### Save the evaluation report of the `Adult` classification into the variable `adult_train_eval`"
   ]
  },
  {
   "cell_type": "code",
   "execution_count": null,
   "metadata": {
    "is_khiops_tutorial_solution": true
   },
   "outputs": [],
   "source": [
    "adult_train_eval = adult_results.train_evaluation_report"
   ]
  },
  {
   "cell_type": "markdown",
   "metadata": {},
   "source": [
    "#### Show the model's train accuracy, auc and confusion matrix"
   ]
  },
  {
   "cell_type": "code",
   "execution_count": null,
   "metadata": {
    "is_khiops_tutorial_solution": true
   },
   "outputs": [],
   "source": [
    "adult_train_performance = adult_train_eval.get_snb_performance()\n",
    "print(f\"Adult train accuracy: {adult_train_performance.accuracy}\")\n",
    "print(f\"Adult train AUC     : {adult_train_performance.auc}\")\n",
    "\n",
    "adult_classes = adult_train_performance.confusion_matrix.values\n",
    "adult_confusion_matrix = pd.DataFrame(\n",
    "    adult_train_performance.confusion_matrix.matrix,\n",
    "    columns=adult_classes,\n",
    "    index=adult_classes,\n",
    ")\n",
    "print(\"Adult train confusion matrix:\")\n",
    "adult_confusion_matrix"
   ]
  },
  {
   "cell_type": "markdown",
   "metadata": {},
   "source": [
    "## Deploying a Classifier\n",
    "We are now going to deploy the `Iris` classifier `pkc_iris`, that we have just trained, on the same dataset (normally we do this on new data). \n",
    "\n",
    "The learned classifier can be deployed in two different ways:\n",
    "\n",
    "- to predict a class that can be obtained using the `predict` method of the model.\n",
    "- to predict class probabilities that can be obtained using the `predict_proba` method of the model.\n",
    "\n",
    "Let's first predict the `Iris` labels:"
   ]
  },
  {
   "cell_type": "code",
   "execution_count": null,
   "metadata": {},
   "outputs": [],
   "source": [
    "iris_predictions = pkc_iris.predict(X_iris_train)\n",
    "print(\"Iris model predictions (first 10 values):\")\n",
    "iris_predictions[:10]"
   ]
  },
  {
   "cell_type": "markdown",
   "metadata": {},
   "source": [
    "Let's now predict the probabilities for each `Iris` type.\n",
    "Note that the column order of this matrix is given by the estimator attribute `pkc.classes_`:"
   ]
  },
  {
   "cell_type": "code",
   "execution_count": null,
   "metadata": {},
   "outputs": [],
   "source": [
    "iris_probas = pkc_iris.predict_proba(X_iris_train)\n",
    "print(f\"Iris classes {pkc_iris.classes_}\")\n",
    "print(\"Iris model probabilities for each class (first 10 rows):\")\n",
    "iris_probas[:10]"
   ]
  },
  {
   "cell_type": "markdown",
   "metadata": {},
   "source": [
    "###  Exercise\n",
    "#### Use the `predict` and  `predict_proba`  methods to deploy the `Adult` model `pkc_adult`\n",
    "Which columns are deployed in each case?"
   ]
  },
  {
   "cell_type": "code",
   "execution_count": null,
   "metadata": {
    "is_khiops_tutorial_solution": true
   },
   "outputs": [],
   "source": [
    "adult_predictions = pkc_adult.predict(X_adult_train)\n",
    "print(\"Adult model predictions (first 10 values):\")\n",
    "display(adult_predictions[:10])\n",
    "\n",
    "adult_probas = pkc_adult.predict_proba(X_adult_train)\n",
    "print(f\"Adult classes {pkc_adult.classes_}\")\n",
    "print(\"Adult model predictions for each class (first 10 rows):\")\n",
    "display(adult_probas[:10])"
   ]
  }
 ],
 "metadata": {
  "celltoolbar": "Edit Metadata",
  "kernelspec": {
   "display_name": "Python 3",
   "language": "python",
   "name": "python3"
  },
  "language_info": {
   "codemirror_mode": {
    "name": "ipython",
    "version": 3
   },
   "file_extension": ".py",
   "mimetype": "text/x-python",
   "name": "python",
   "nbconvert_exporter": "python",
   "pygments_lexer": "ipython3"
  }
 },
 "nbformat": 4,
 "nbformat_minor": 2
}
