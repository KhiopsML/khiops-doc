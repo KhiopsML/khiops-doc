{
 "cells": [
  {
   "cell_type": "markdown",
   "metadata": {},
   "source": [
    "# Snowflake Multi-Table Dataset\n",
    "\n",
    "In this notebook, we will learn how to train a classifier with a more complex multi-table data where a secondary table is itself a parent tables of another table (ie. snowflake schema). It is highly recommended to see the _Sklearn Basics 1_ and _Sklearn Basics 2_ lessons if you are not familiar with pyKhiops' sklearn estimators.\n",
    "\n",
    "We start by importing pyKhiops sklearn classifier `KhiopsClassifier` and saving the location of the Khiops `Samples` directory into a variable:"
   ]
  },
  {
   "cell_type": "code",
   "execution_count": null,
   "metadata": {},
   "outputs": [],
   "source": [
    "from os import path\n",
    "import pandas as pd\n",
    "\n",
    "from khiops import core as kh\n",
    "from khiops.sklearn import KhiopsClassifier"
   ]
  },
  {
   "cell_type": "markdown",
   "metadata": {},
   "source": [
    "### Training a Multi-Table Classifier\n",
    "\n",
    "We'll train a multi-table classifier on a extension of dataset `AccidentsSummary` that we used in the previous notebook Sklearn Basics 2. This dataset `Accidents` contains the additional table `Users` and is organized in the following relational snowflake schema.\n",
    "\n",
    "```\n",
    "Accidents\n",
    "|\n",
    "| -- 1:n -- Vehicles\n",
    "              |\n",
    "              |-- 1:n -- Users\n",
    "```\n",
    "\n",
    "Note that the target variable is `Gravity`.\n",
    "\n",
    "To train the KhiopsClassifier for this setup, we must specify a multi-table dataset. Let's first check the content of the tables:\n",
    "\n",
    "- The main table `Accidents`\n",
    "- The secondary table `Vehicles`\n",
    "- The tertiary table `Users`\n"
   ]
  },
  {
   "cell_type": "code",
   "execution_count": null,
   "metadata": {},
   "outputs": [],
   "source": [
    "accidents_dataset_dir = path.join(kh.get_samples_dir(), \"Accidents\")\n",
    "\n",
    "accidents_file = path.join(\n",
    "    path.join(kh.get_samples_dir(), \"AccidentsSummary\"), \"Accidents.txt\"\n",
    ")\n",
    "accidents_df = pd.read_csv(accidents_file, sep=\"\\t\", encoding=\"latin1\")\n",
    "print(f\"Accident dataframe (first 10 rows):\")\n",
    "display(accidents_df.head(10))\n",
    "print()\n",
    "\n",
    "# We drop the \"Gravity\" column as it was used to create the target\n",
    "users_file = path.join(accidents_dataset_dir, \"Users.txt\")\n",
    "users_df = pd.read_csv(users_file, sep=\"\\t\", encoding=\"latin1\").drop(\"Gravity\", axis=1)\n",
    "print(f\"User dataframe (first 10 rows):\")\n",
    "display(users_df.head(10))\n",
    "print()\n",
    "\n",
    "vehicles_file = path.join(accidents_dataset_dir, \"Vehicles.txt\")\n",
    "vehicles_df = pd.read_csv(vehicles_file, sep=\"\\t\", encoding=\"latin1\")\n",
    "print(f\"Vehicle dataframe (first 10 rows):\")\n",
    "display(vehicles_df.head(10))"
   ]
  },
  {
   "cell_type": "markdown",
   "metadata": {},
   "source": [
    "#### Create the main feature matrix and the target vector for `Accidents`"
   ]
  },
  {
   "cell_type": "code",
   "execution_count": null,
   "metadata": {},
   "outputs": [],
   "source": [
    "accidents_main_df = accidents_df.drop(\"Gravity\", axis=1)\n",
    "y_accidents_train = accidents_df[\"Gravity\"]"
   ]
  },
  {
   "cell_type": "markdown",
   "metadata": {},
   "source": [
    "#### Create the multi-table dataset specification\n",
    "\n",
    "Note the main table has one key `AccidentId`. Secondary table `Places` has the same key.\n",
    "Tables `Vehicles` (the other secondary table) and `Users` (the tertiary table) have two keys `AccidentId` and `VehicleId`.\n",
    "\n",
    "To describe relations between tables, the field `relations` must be added to the dictionary of table specifications. This field\n",
    "is a list of pairs of tables of the form \n",
    "```\n",
    "(<parent table name>, <child table name>)\n",
    "``` \n",
    "\n",
    "Note that `Places` is here considered as a table as `pykhiops.sklearn` estimators do not support 1:1 relationships at the moment. "
   ]
  },
  {
   "cell_type": "code",
   "execution_count": null,
   "metadata": {},
   "outputs": [],
   "source": [
    "X_accidents_train = {\n",
    "    \"main_table\": \"Accidents\",\n",
    "    \"tables\": {\n",
    "        \"Accidents\": (accidents_main_df, \"AccidentId\"),\n",
    "        \"Vehicles\": (vehicles_df, [\"AccidentId\", \"VehicleId\"]),\n",
    "        \"Users\": (users_df, [\"AccidentId\", \"VehicleId\"]),\n",
    "    },\n",
    "    \"relations\": [\n",
    "        (\"Accidents\", \"Vehicles\"),\n",
    "        (\"Vehicles\", \"Users\"),\n",
    "    ],\n",
    "}"
   ]
  },
  {
   "cell_type": "markdown",
   "metadata": {},
   "source": [
    "#### Train a classifier with this dataset\n",
    "\n",
    "- You may choose the number of features `n_features` to be created by the Khiops AutoML engine\n",
    "- Set the number of trees to zero (`n_trees=0`)"
   ]
  },
  {
   "cell_type": "code",
   "execution_count": null,
   "metadata": {},
   "outputs": [],
   "source": [
    "pkc_accidents = KhiopsClassifier(n_trees=0, n_features=1000)\n",
    "pkc_accidents.fit(X_accidents_train, y_accidents_train)"
   ]
  },
  {
   "cell_type": "markdown",
   "metadata": {},
   "source": [
    "#### Print the accuracy and auc of the model\n"
   ]
  },
  {
   "cell_type": "code",
   "execution_count": null,
   "metadata": {},
   "outputs": [],
   "source": [
    "accidents_train_performance = (\n",
    "    pkc_accidents.model_report_.train_evaluation_report.get_snb_performance()\n",
    ")\n",
    "print(f\"Accidents train accuracy: {accidents_train_performance.accuracy}\")\n",
    "print(f\"Accidents train auc     : {accidents_train_performance.auc}\")"
   ]
  },
  {
   "cell_type": "markdown",
   "metadata": {},
   "source": [
    "#### Deploy the classifier to obtain predictions on the training data\n",
    "\n",
    "Note that usually one deploys the model on new test data. We deploy on the train dataset to keep the tutorial simple*.\n"
   ]
  },
  {
   "cell_type": "code",
   "execution_count": null,
   "metadata": {
    "is_khiops_tutorial_solution": true
   },
   "outputs": [],
   "source": [
    "pkc_accidents.predict(X_accidents_train)"
   ]
  }
 ],
 "metadata": {
  "celltoolbar": "Edit Metadata",
  "kernelspec": {
   "display_name": "Python 3",
   "language": "python",
   "name": "python3"
  },
  "language_info": {
   "codemirror_mode": {
    "name": "ipython",
    "version": 3
   },
   "file_extension": ".py",
   "mimetype": "text/x-python",
   "name": "python",
   "nbconvert_exporter": "python",
   "pygments_lexer": "ipython3"
  }
 },
 "nbformat": 4,
 "nbformat_minor": 4
}
