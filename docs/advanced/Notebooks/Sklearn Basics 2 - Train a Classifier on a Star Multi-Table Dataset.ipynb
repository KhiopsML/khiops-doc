{
 "cells": [
  {
   "cell_type": "markdown",
   "metadata": {},
   "source": [
    "# Star Multi-Table Dataset\n",
    "\n",
    "In this notebook, we will learn how to train a classifier with a multi-table data composed of two tables (a root table and a secondary table). It is highly recommended to see the _Sklearn Basics 1_ lesson if you are not familiar with pyKhiops' sklearn estimators.\n",
    "\n",
    "\n",
    "We start by importing pyKhiops sklearn classifier `KhiopsClassifier` and saving the location of the Khiops `Samples` directory into a variable:"
   ]
  },
  {
   "cell_type": "code",
   "execution_count": 1,
   "metadata": {},
   "outputs": [
    {
     "name": "stderr",
     "output_type": "stream",
     "text": [
      "/opt/homebrew/Caskroom/miniconda/base/envs/benchmark/lib/python3.10/site-packages/sklearn/experimental/enable_hist_gradient_boosting.py:15: UserWarning: Since version 1.0, it is not needed to import enable_hist_gradient_boosting anymore. HistGradientBoostingClassifier and HistGradientBoostingRegressor are now stable and can be normally imported from sklearn.ensemble.\n",
      "  warnings.warn(\n"
     ]
    }
   ],
   "source": [
    "from os import path\n",
    "import pandas as pd\n",
    "\n",
    "from khiops import core as kh\n",
    "from khiops.sklearn import KhiopsClassifier"
   ]
  },
  {
   "cell_type": "markdown",
   "metadata": {},
   "source": [
    "### Training a Multi-Table Classifier\n",
    "We'll train a \"sarcasm detector\" using the dataset `HeadlineSarcasm`. In its raw form, the dataset contains a list of text headlines paired with a label that indicates whether its source is a sarcastic site (such as [The Onion](https://www.theonion.com)) or not.\n",
    "\n",
    "We have transformed this dataset into two tables such that the text-label record\n",
    "```\n",
    "\"groundbreaking study finds gratification can be deliberately postponed\"\tyes\n",
    "```\n",
    "is transformed to an entry in a table that contains (id, label) records\n",
    "```\n",
    "97 yes\n",
    "```\n",
    "and various entries in a secondary table linking a headline id to its words and positions\n",
    "```\n",
    "97\t0\tgroundbreaking\n",
    "97\t1\tstudy\n",
    "97\t2\tfinds\n",
    "97\t3\tgratification\n",
    "97\t4\tcan\n",
    "97\t5\tbe\n",
    "97\t6\tdeliberately\n",
    "97\t7\tpostponed\n",
    "```\n",
    "\n",
    "Thus, the `HeadlineSarcasm` dataset has the following multi-table schema\n",
    "```\n",
    " +-----------+\n",
    " |Headline   |\n",
    " +-----------+ +-------------+\n",
    " |HeadlineId*| |HeadlineWords|\n",
    " |IsSarcastic| +-------------+\n",
    " +-----------+ |HeadlineId*  |\n",
    "      |        |Position     |\n",
    "      +-1:n--->|Word         |\n",
    "               +-------------+\n",
    "```\n",
    "The `HeadlineId` variable is special because it is a _key_ that links a particular headline to its words (a `1:n` relation).\n",
    "\n",
    "*Note: There are other methods more appropriate for this text-mining problem. This multi-table setup is only intended for pedagogical purposes.*\n",
    "\n",
    "To train the `KhiopsClassifier` for this setup we must specify a multi-table dataset. Let's first check the content of the created tables: \n",
    "- The main table `Headline`\n",
    "- The secondary table `HeadlineWords`"
   ]
  },
  {
   "cell_type": "code",
   "execution_count": 3,
   "metadata": {},
   "outputs": [
    {
     "name": "stdout",
     "output_type": "stream",
     "text": [
      "Headlines table (first 10 rows)\n"
     ]
    },
    {
     "data": {
      "text/html": [
       "<div>\n",
       "<style scoped>\n",
       "    .dataframe tbody tr th:only-of-type {\n",
       "        vertical-align: middle;\n",
       "    }\n",
       "\n",
       "    .dataframe tbody tr th {\n",
       "        vertical-align: top;\n",
       "    }\n",
       "\n",
       "    .dataframe thead th {\n",
       "        text-align: right;\n",
       "    }\n",
       "</style>\n",
       "<table border=\"1\" class=\"dataframe\">\n",
       "  <thead>\n",
       "    <tr style=\"text-align: right;\">\n",
       "      <th></th>\n",
       "      <th>HeadlineId</th>\n",
       "      <th>IsSarcasm</th>\n",
       "    </tr>\n",
       "  </thead>\n",
       "  <tbody>\n",
       "    <tr>\n",
       "      <th>0</th>\n",
       "      <td>0</td>\n",
       "      <td>yes</td>\n",
       "    </tr>\n",
       "    <tr>\n",
       "      <th>1</th>\n",
       "      <td>1</td>\n",
       "      <td>no</td>\n",
       "    </tr>\n",
       "    <tr>\n",
       "      <th>2</th>\n",
       "      <td>10</td>\n",
       "      <td>no</td>\n",
       "    </tr>\n",
       "    <tr>\n",
       "      <th>3</th>\n",
       "      <td>100</td>\n",
       "      <td>yes</td>\n",
       "    </tr>\n",
       "    <tr>\n",
       "      <th>4</th>\n",
       "      <td>1000</td>\n",
       "      <td>yes</td>\n",
       "    </tr>\n",
       "    <tr>\n",
       "      <th>5</th>\n",
       "      <td>10000</td>\n",
       "      <td>no</td>\n",
       "    </tr>\n",
       "    <tr>\n",
       "      <th>6</th>\n",
       "      <td>10001</td>\n",
       "      <td>yes</td>\n",
       "    </tr>\n",
       "    <tr>\n",
       "      <th>7</th>\n",
       "      <td>10002</td>\n",
       "      <td>no</td>\n",
       "    </tr>\n",
       "    <tr>\n",
       "      <th>8</th>\n",
       "      <td>10003</td>\n",
       "      <td>yes</td>\n",
       "    </tr>\n",
       "    <tr>\n",
       "      <th>9</th>\n",
       "      <td>10004</td>\n",
       "      <td>no</td>\n",
       "    </tr>\n",
       "  </tbody>\n",
       "</table>\n",
       "</div>"
      ],
      "text/plain": [
       "   HeadlineId IsSarcasm\n",
       "0           0       yes\n",
       "1           1        no\n",
       "2          10        no\n",
       "3         100       yes\n",
       "4        1000       yes\n",
       "5       10000        no\n",
       "6       10001       yes\n",
       "7       10002        no\n",
       "8       10003       yes\n",
       "9       10004        no"
      ]
     },
     "metadata": {},
     "output_type": "display_data"
    },
    {
     "name": "stdout",
     "output_type": "stream",
     "text": [
      "HeadlineWords table (first 10 rows)\n"
     ]
    },
    {
     "data": {
      "text/html": [
       "<div>\n",
       "<style scoped>\n",
       "    .dataframe tbody tr th:only-of-type {\n",
       "        vertical-align: middle;\n",
       "    }\n",
       "\n",
       "    .dataframe tbody tr th {\n",
       "        vertical-align: top;\n",
       "    }\n",
       "\n",
       "    .dataframe thead th {\n",
       "        text-align: right;\n",
       "    }\n",
       "</style>\n",
       "<table border=\"1\" class=\"dataframe\">\n",
       "  <thead>\n",
       "    <tr style=\"text-align: right;\">\n",
       "      <th></th>\n",
       "      <th>HeadlineId</th>\n",
       "      <th>Position</th>\n",
       "      <th>Word</th>\n",
       "    </tr>\n",
       "  </thead>\n",
       "  <tbody>\n",
       "    <tr>\n",
       "      <th>0</th>\n",
       "      <td>0</td>\n",
       "      <td>0</td>\n",
       "      <td>thirtysomething</td>\n",
       "    </tr>\n",
       "    <tr>\n",
       "      <th>1</th>\n",
       "      <td>0</td>\n",
       "      <td>1</td>\n",
       "      <td>scientists</td>\n",
       "    </tr>\n",
       "    <tr>\n",
       "      <th>2</th>\n",
       "      <td>0</td>\n",
       "      <td>2</td>\n",
       "      <td>unveil</td>\n",
       "    </tr>\n",
       "    <tr>\n",
       "      <th>3</th>\n",
       "      <td>0</td>\n",
       "      <td>3</td>\n",
       "      <td>doomsday</td>\n",
       "    </tr>\n",
       "    <tr>\n",
       "      <th>4</th>\n",
       "      <td>0</td>\n",
       "      <td>4</td>\n",
       "      <td>clock</td>\n",
       "    </tr>\n",
       "    <tr>\n",
       "      <th>5</th>\n",
       "      <td>0</td>\n",
       "      <td>5</td>\n",
       "      <td>of</td>\n",
       "    </tr>\n",
       "    <tr>\n",
       "      <th>6</th>\n",
       "      <td>0</td>\n",
       "      <td>6</td>\n",
       "      <td>hair</td>\n",
       "    </tr>\n",
       "    <tr>\n",
       "      <th>7</th>\n",
       "      <td>0</td>\n",
       "      <td>7</td>\n",
       "      <td>loss</td>\n",
       "    </tr>\n",
       "    <tr>\n",
       "      <th>8</th>\n",
       "      <td>1</td>\n",
       "      <td>0</td>\n",
       "      <td>dem</td>\n",
       "    </tr>\n",
       "    <tr>\n",
       "      <th>9</th>\n",
       "      <td>1</td>\n",
       "      <td>1</td>\n",
       "      <td>rep.</td>\n",
       "    </tr>\n",
       "  </tbody>\n",
       "</table>\n",
       "</div>"
      ],
      "text/plain": [
       "   HeadlineId  Position             Word\n",
       "0           0         0  thirtysomething\n",
       "1           0         1       scientists\n",
       "2           0         2           unveil\n",
       "3           0         3         doomsday\n",
       "4           0         4            clock\n",
       "5           0         5               of\n",
       "6           0         6             hair\n",
       "7           0         7             loss\n",
       "8           1         0              dem\n",
       "9           1         1             rep."
      ]
     },
     "metadata": {},
     "output_type": "display_data"
    }
   ],
   "source": [
    "sarcasm_dataset_dir = path.join(\"data\", \"HeadlineSarcasm\")\n",
    "headlines_file = path.join(sarcasm_dataset_dir, \"Headlines.txt\")\n",
    "headlines_df = pd.read_csv(headlines_file, sep=\"\\t\")\n",
    "print(\"Headlines table (first 10 rows)\")\n",
    "display(headlines_df.head(10))\n",
    "\n",
    "headlines_words_file = path.join(sarcasm_dataset_dir, \"HeadlineWords.txt\")\n",
    "headlines_words_df = pd.read_csv(headlines_words_file, sep=\"\\t\")\n",
    "print(\"HeadlineWords table (first 10 rows)\")\n",
    "display(headlines_words_df.head(10))"
   ]
  },
  {
   "cell_type": "markdown",
   "metadata": {},
   "source": [
    "Before training the classifier, we split the main table into a feature matrix (only the `HeadlineId` column) and a target vector containing the labels (the `IsSarcasm` column)."
   ]
  },
  {
   "cell_type": "code",
   "execution_count": 4,
   "metadata": {},
   "outputs": [],
   "source": [
    "headlines_train_df = headlines_df.drop(\"IsSarcasm\", axis=1)\n",
    "y_sarcasm_train = headlines_df[\"IsSarcasm\"]"
   ]
  },
  {
   "cell_type": "markdown",
   "metadata": {},
   "source": [
    "You may note that the feature matrix does not contain any *feature* but do not worry. The Khiops AutoML engine will automatically create features by aggregating the columns of `HeadlineWords` for each headline (more details about this below). \n",
    "\n",
    "Moreover, instead of passing an `X` table to the `fit` method, we pass a *multi-table dataset* specification which is dictionary with the following format:\n",
    "```\n",
    "X = {\n",
    "   \"main_table\": <name of the main table>,\n",
    "   \"tables\" : {\n",
    "       <name of table 1>: (<dataframe of table 1>, <key column names of table 1>),\n",
    "       <name of table 2>: (<dataframe of table 2>, <key column names of table 2>),\n",
    "       ...\n",
    "    }\n",
    "}\n",
    "```\n",
    "Note that the key columns of each table are specified as a single name or a tuple containing the column names composing the key.\n",
    "\n",
    "So for our `HeadlineSarcasm` case, we specify the dataset as:"
   ]
  },
  {
   "cell_type": "code",
   "execution_count": 5,
   "metadata": {},
   "outputs": [],
   "source": [
    "X_sarcasm_train = {\n",
    "    \"main_table\": \"headlines\",\n",
    "    \"tables\": {\n",
    "        \"headlines\": (headlines_train_df, \"HeadlineId\"),\n",
    "        \"headline_words\": (headlines_words_df, \"HeadlineId\"),\n",
    "    },\n",
    "}"
   ]
  },
  {
   "cell_type": "markdown",
   "metadata": {},
   "source": [
    "The call to the `KhiopsClassifier` `fit` method is very similar to the single-table case but this time we specify the additional parameter `n_features` which is the number of aggregates that Khiops AutoML engine will construct and analyze during the training. Some examples of the features it will create for `HeadlineSarcasm` are:\n",
    "- Number of different words in the headline\n",
    "- Most common word in the headline\n",
    "- Number of times the word 'the' appears\n",
    "- ...\n",
    "\n",
    "The Khiops AutoML engine will also evaluate, select and combine the these features to build a classifier. We'll here request for `1000` features (the default is `100`):\n",
    "\n",
    "*Note: By default Khiops builds 10 decision tree features. This is not necessary for this tutorial so we set `n_trees=0`*"
   ]
  },
  {
   "cell_type": "code",
   "execution_count": 6,
   "metadata": {},
   "outputs": [
    {
     "data": {
      "text/html": [
       "<style>#sk-container-id-1 {color: black;}#sk-container-id-1 pre{padding: 0;}#sk-container-id-1 div.sk-toggleable {background-color: white;}#sk-container-id-1 label.sk-toggleable__label {cursor: pointer;display: block;width: 100%;margin-bottom: 0;padding: 0.3em;box-sizing: border-box;text-align: center;}#sk-container-id-1 label.sk-toggleable__label-arrow:before {content: \"▸\";float: left;margin-right: 0.25em;color: #696969;}#sk-container-id-1 label.sk-toggleable__label-arrow:hover:before {color: black;}#sk-container-id-1 div.sk-estimator:hover label.sk-toggleable__label-arrow:before {color: black;}#sk-container-id-1 div.sk-toggleable__content {max-height: 0;max-width: 0;overflow: hidden;text-align: left;background-color: #f0f8ff;}#sk-container-id-1 div.sk-toggleable__content pre {margin: 0.2em;color: black;border-radius: 0.25em;background-color: #f0f8ff;}#sk-container-id-1 input.sk-toggleable__control:checked~div.sk-toggleable__content {max-height: 200px;max-width: 100%;overflow: auto;}#sk-container-id-1 input.sk-toggleable__control:checked~label.sk-toggleable__label-arrow:before {content: \"▾\";}#sk-container-id-1 div.sk-estimator input.sk-toggleable__control:checked~label.sk-toggleable__label {background-color: #d4ebff;}#sk-container-id-1 div.sk-label input.sk-toggleable__control:checked~label.sk-toggleable__label {background-color: #d4ebff;}#sk-container-id-1 input.sk-hidden--visually {border: 0;clip: rect(1px 1px 1px 1px);clip: rect(1px, 1px, 1px, 1px);height: 1px;margin: -1px;overflow: hidden;padding: 0;position: absolute;width: 1px;}#sk-container-id-1 div.sk-estimator {font-family: monospace;background-color: #f0f8ff;border: 1px dotted black;border-radius: 0.25em;box-sizing: border-box;margin-bottom: 0.5em;}#sk-container-id-1 div.sk-estimator:hover {background-color: #d4ebff;}#sk-container-id-1 div.sk-parallel-item::after {content: \"\";width: 100%;border-bottom: 1px solid gray;flex-grow: 1;}#sk-container-id-1 div.sk-label:hover label.sk-toggleable__label {background-color: #d4ebff;}#sk-container-id-1 div.sk-serial::before {content: \"\";position: absolute;border-left: 1px solid gray;box-sizing: border-box;top: 0;bottom: 0;left: 50%;z-index: 0;}#sk-container-id-1 div.sk-serial {display: flex;flex-direction: column;align-items: center;background-color: white;padding-right: 0.2em;padding-left: 0.2em;position: relative;}#sk-container-id-1 div.sk-item {position: relative;z-index: 1;}#sk-container-id-1 div.sk-parallel {display: flex;align-items: stretch;justify-content: center;background-color: white;position: relative;}#sk-container-id-1 div.sk-item::before, #sk-container-id-1 div.sk-parallel-item::before {content: \"\";position: absolute;border-left: 1px solid gray;box-sizing: border-box;top: 0;bottom: 0;left: 50%;z-index: -1;}#sk-container-id-1 div.sk-parallel-item {display: flex;flex-direction: column;z-index: 1;position: relative;background-color: white;}#sk-container-id-1 div.sk-parallel-item:first-child::after {align-self: flex-end;width: 50%;}#sk-container-id-1 div.sk-parallel-item:last-child::after {align-self: flex-start;width: 50%;}#sk-container-id-1 div.sk-parallel-item:only-child::after {width: 0;}#sk-container-id-1 div.sk-dashed-wrapped {border: 1px dashed gray;margin: 0 0.4em 0.5em 0.4em;box-sizing: border-box;padding-bottom: 0.4em;background-color: white;}#sk-container-id-1 div.sk-label label {font-family: monospace;font-weight: bold;display: inline-block;line-height: 1.2em;}#sk-container-id-1 div.sk-label-container {text-align: center;}#sk-container-id-1 div.sk-container {/* jupyter's `normalize.less` sets `[hidden] { display: none; }` but bootstrap.min.css set `[hidden] { display: none !important; }` so we also need the `!important` here to be able to override the default hidden behavior on the sphinx rendered scikit-learn.org. See: https://github.com/scikit-learn/scikit-learn/issues/21755 */display: inline-block !important;position: relative;}#sk-container-id-1 div.sk-text-repr-fallback {display: none;}</style><div id=\"sk-container-id-1\" class=\"sk-top-container\"><div class=\"sk-text-repr-fallback\"><pre>KhiopsClassifier(n_features=1000, n_trees=0)</pre><b>In a Jupyter environment, please rerun this cell to show the HTML representation or trust the notebook. <br />On GitHub, the HTML representation is unable to render, please try loading this page with nbviewer.org.</b></div><div class=\"sk-container\" hidden><div class=\"sk-item\"><div class=\"sk-estimator sk-toggleable\"><input class=\"sk-toggleable__control sk-hidden--visually\" id=\"sk-estimator-id-1\" type=\"checkbox\" checked><label for=\"sk-estimator-id-1\" class=\"sk-toggleable__label sk-toggleable__label-arrow\">KhiopsClassifier</label><div class=\"sk-toggleable__content\"><pre>KhiopsClassifier(n_features=1000, n_trees=0)</pre></div></div></div></div></div>"
      ],
      "text/plain": [
       "KhiopsClassifier(n_features=1000, n_trees=0)"
      ]
     },
     "execution_count": 6,
     "metadata": {},
     "output_type": "execute_result"
    }
   ],
   "source": [
    "pkc_sarcasm = KhiopsClassifier(n_features=1000, n_trees=0)\n",
    "pkc_sarcasm.fit(X_sarcasm_train, y_sarcasm_train)"
   ]
  },
  {
   "cell_type": "markdown",
   "metadata": {},
   "source": [
    "We quickly check its train accuracy and auc as in the previous tutorial:"
   ]
  },
  {
   "cell_type": "code",
   "execution_count": 7,
   "metadata": {},
   "outputs": [
    {
     "name": "stdout",
     "output_type": "stream",
     "text": [
      "HeadlineSarcasm train accuracy: 0.856808\n",
      "HeadlineSarcasm train auc     : 0.93599\n"
     ]
    }
   ],
   "source": [
    "sarcasm_train_performance = (\n",
    "    pkc_sarcasm.model_report_.train_evaluation_report.get_snb_performance()\n",
    ")\n",
    "print(f\"HeadlineSarcasm train accuracy: {sarcasm_train_performance.accuracy}\")\n",
    "print(f\"HeadlineSarcasm train auc     : {sarcasm_train_performance.auc}\")"
   ]
  },
  {
   "cell_type": "markdown",
   "metadata": {},
   "source": [
    "Now, we use our sarcasm classifier to obtain predictions on the training data. We normally do that on new test data, and again a multi-table dataset specification would have been needed."
   ]
  },
  {
   "cell_type": "code",
   "execution_count": 8,
   "metadata": {},
   "outputs": [
    {
     "name": "stdout",
     "output_type": "stream",
     "text": [
      "HeadlineSarcasm train predictions (first 10 values):\n"
     ]
    },
    {
     "data": {
      "text/plain": [
       "array(['yes', 'no', 'no', 'yes', 'yes', 'no', 'yes', 'no', 'yes', 'no'],\n",
       "      dtype='<U3')"
      ]
     },
     "metadata": {},
     "output_type": "display_data"
    }
   ],
   "source": [
    "sarcasm_predictions = pkc_sarcasm.predict(X_sarcasm_train)\n",
    "print(\"HeadlineSarcasm train predictions (first 10 values):\")\n",
    "display(sarcasm_predictions[:10])"
   ]
  },
  {
   "cell_type": "markdown",
   "metadata": {},
   "source": [
    "### Exercise\n",
    "\n",
    "Repeat the previous steps with the `AccidentsSummary` dataset. This dataset describes the characteristics of traffic accidents that happened in France in 2018. It has two tables with the following schema:\n",
    "```\n",
    "+---------------+\n",
    "|Accidents      |\n",
    "+---------------+\n",
    "|AccidentId*    |\n",
    "|Gravity        |\n",
    "|Date           |\n",
    "|Hour           | +---------------+\n",
    "|Light          | |Vehicles       |\n",
    "|Department     | +---------------+\n",
    "|Commune        | |AccidentId*    |\n",
    "|InAgglomeration| |VehicleId*     |\n",
    "|...            | |Direction      |\n",
    "+---------------+ |Category       |\n",
    "       |          |PassengerNumber|\n",
    "       +---1:n--->|...            |\n",
    "                  +---------------+\n",
    "```\n",
    "For each accident, we have both its characteristics (such as `Gravity` or `Light` conditions) and those of each involved vehicle (its `Direction` or `PassengerNumber`). We first load the tables of the `AccidentsSummary` into dataframes:"
   ]
  },
  {
   "cell_type": "code",
   "execution_count": 9,
   "metadata": {
    "is_khiops_tutorial_solution": true
   },
   "outputs": [
    {
     "name": "stdout",
     "output_type": "stream",
     "text": [
      "Accidents dataframe (first 10 rows):\n"
     ]
    },
    {
     "data": {
      "text/html": [
       "<div>\n",
       "<style scoped>\n",
       "    .dataframe tbody tr th:only-of-type {\n",
       "        vertical-align: middle;\n",
       "    }\n",
       "\n",
       "    .dataframe tbody tr th {\n",
       "        vertical-align: top;\n",
       "    }\n",
       "\n",
       "    .dataframe thead th {\n",
       "        text-align: right;\n",
       "    }\n",
       "</style>\n",
       "<table border=\"1\" class=\"dataframe\">\n",
       "  <thead>\n",
       "    <tr style=\"text-align: right;\">\n",
       "      <th></th>\n",
       "      <th>AccidentId</th>\n",
       "      <th>Gravity</th>\n",
       "      <th>Date</th>\n",
       "      <th>Hour</th>\n",
       "      <th>Light</th>\n",
       "      <th>Department</th>\n",
       "      <th>Commune</th>\n",
       "      <th>InAgglomeration</th>\n",
       "      <th>IntersectionType</th>\n",
       "      <th>Weather</th>\n",
       "      <th>CollisionType</th>\n",
       "      <th>PostalAddress</th>\n",
       "    </tr>\n",
       "  </thead>\n",
       "  <tbody>\n",
       "    <tr>\n",
       "      <th>0</th>\n",
       "      <td>201800000001</td>\n",
       "      <td>NonLethal</td>\n",
       "      <td>2018-01-24</td>\n",
       "      <td>15:05:00</td>\n",
       "      <td>Daylight</td>\n",
       "      <td>590</td>\n",
       "      <td>5</td>\n",
       "      <td>No</td>\n",
       "      <td>Y-type</td>\n",
       "      <td>Normal</td>\n",
       "      <td>2Vehicles-BehindVehicles-Frontal</td>\n",
       "      <td>route des Ansereuilles</td>\n",
       "    </tr>\n",
       "    <tr>\n",
       "      <th>1</th>\n",
       "      <td>201800000002</td>\n",
       "      <td>NonLethal</td>\n",
       "      <td>2018-02-12</td>\n",
       "      <td>10:15:00</td>\n",
       "      <td>Daylight</td>\n",
       "      <td>590</td>\n",
       "      <td>11</td>\n",
       "      <td>Yes</td>\n",
       "      <td>Square</td>\n",
       "      <td>VeryGood</td>\n",
       "      <td>NoCollision</td>\n",
       "      <td>Place du général de Gaul</td>\n",
       "    </tr>\n",
       "    <tr>\n",
       "      <th>2</th>\n",
       "      <td>201800000003</td>\n",
       "      <td>NonLethal</td>\n",
       "      <td>2018-03-04</td>\n",
       "      <td>11:35:00</td>\n",
       "      <td>Daylight</td>\n",
       "      <td>590</td>\n",
       "      <td>477</td>\n",
       "      <td>Yes</td>\n",
       "      <td>T-type</td>\n",
       "      <td>Normal</td>\n",
       "      <td>NoCollision</td>\n",
       "      <td>Rue  nationale</td>\n",
       "    </tr>\n",
       "    <tr>\n",
       "      <th>3</th>\n",
       "      <td>201800000004</td>\n",
       "      <td>NonLethal</td>\n",
       "      <td>2018-05-05</td>\n",
       "      <td>17:35:00</td>\n",
       "      <td>Daylight</td>\n",
       "      <td>590</td>\n",
       "      <td>52</td>\n",
       "      <td>Yes</td>\n",
       "      <td>NoIntersection</td>\n",
       "      <td>VeryGood</td>\n",
       "      <td>2Vehicles-Side</td>\n",
       "      <td>30 rue Jules Guesde</td>\n",
       "    </tr>\n",
       "    <tr>\n",
       "      <th>4</th>\n",
       "      <td>201800000005</td>\n",
       "      <td>NonLethal</td>\n",
       "      <td>2018-06-26</td>\n",
       "      <td>16:05:00</td>\n",
       "      <td>Daylight</td>\n",
       "      <td>590</td>\n",
       "      <td>477</td>\n",
       "      <td>Yes</td>\n",
       "      <td>NoIntersection</td>\n",
       "      <td>Normal</td>\n",
       "      <td>2Vehicles-Side</td>\n",
       "      <td>72 rue Victor Hugo</td>\n",
       "    </tr>\n",
       "    <tr>\n",
       "      <th>5</th>\n",
       "      <td>201800000006</td>\n",
       "      <td>NonLethal</td>\n",
       "      <td>2018-09-23</td>\n",
       "      <td>06:30:00</td>\n",
       "      <td>TwilightOrDawn</td>\n",
       "      <td>590</td>\n",
       "      <td>52</td>\n",
       "      <td>Yes</td>\n",
       "      <td>NoIntersection</td>\n",
       "      <td>LightRain</td>\n",
       "      <td>Other</td>\n",
       "      <td>D39</td>\n",
       "    </tr>\n",
       "    <tr>\n",
       "      <th>6</th>\n",
       "      <td>201800000007</td>\n",
       "      <td>NonLethal</td>\n",
       "      <td>2018-09-26</td>\n",
       "      <td>00:40:00</td>\n",
       "      <td>NightStreelightsOn</td>\n",
       "      <td>590</td>\n",
       "      <td>133</td>\n",
       "      <td>Yes</td>\n",
       "      <td>NoIntersection</td>\n",
       "      <td>Normal</td>\n",
       "      <td>Other</td>\n",
       "      <td>4 route de camphin</td>\n",
       "    </tr>\n",
       "    <tr>\n",
       "      <th>7</th>\n",
       "      <td>201800000008</td>\n",
       "      <td>Lethal</td>\n",
       "      <td>2018-11-30</td>\n",
       "      <td>17:15:00</td>\n",
       "      <td>NightStreelightsOn</td>\n",
       "      <td>590</td>\n",
       "      <td>11</td>\n",
       "      <td>Yes</td>\n",
       "      <td>NoIntersection</td>\n",
       "      <td>Normal</td>\n",
       "      <td>Other</td>\n",
       "      <td>rue saint exupéry</td>\n",
       "    </tr>\n",
       "    <tr>\n",
       "      <th>8</th>\n",
       "      <td>201800000009</td>\n",
       "      <td>NonLethal</td>\n",
       "      <td>2018-02-18</td>\n",
       "      <td>15:57:00</td>\n",
       "      <td>Daylight</td>\n",
       "      <td>590</td>\n",
       "      <td>550</td>\n",
       "      <td>No</td>\n",
       "      <td>NoIntersection</td>\n",
       "      <td>Normal</td>\n",
       "      <td>Other</td>\n",
       "      <td>rue de l'égalité</td>\n",
       "    </tr>\n",
       "    <tr>\n",
       "      <th>9</th>\n",
       "      <td>201800000010</td>\n",
       "      <td>NonLethal</td>\n",
       "      <td>2018-03-19</td>\n",
       "      <td>15:30:00</td>\n",
       "      <td>Daylight</td>\n",
       "      <td>590</td>\n",
       "      <td>51</td>\n",
       "      <td>Yes</td>\n",
       "      <td>X-type</td>\n",
       "      <td>Normal</td>\n",
       "      <td>2Vehicles-BehindVehicles-Frontal</td>\n",
       "      <td>face au 59 rue de Lille</td>\n",
       "    </tr>\n",
       "  </tbody>\n",
       "</table>\n",
       "</div>"
      ],
      "text/plain": [
       "     AccidentId    Gravity        Date      Hour               Light  \\\n",
       "0  201800000001  NonLethal  2018-01-24  15:05:00            Daylight   \n",
       "1  201800000002  NonLethal  2018-02-12  10:15:00            Daylight   \n",
       "2  201800000003  NonLethal  2018-03-04  11:35:00            Daylight   \n",
       "3  201800000004  NonLethal  2018-05-05  17:35:00            Daylight   \n",
       "4  201800000005  NonLethal  2018-06-26  16:05:00            Daylight   \n",
       "5  201800000006  NonLethal  2018-09-23  06:30:00      TwilightOrDawn   \n",
       "6  201800000007  NonLethal  2018-09-26  00:40:00  NightStreelightsOn   \n",
       "7  201800000008     Lethal  2018-11-30  17:15:00  NightStreelightsOn   \n",
       "8  201800000009  NonLethal  2018-02-18  15:57:00            Daylight   \n",
       "9  201800000010  NonLethal  2018-03-19  15:30:00            Daylight   \n",
       "\n",
       "   Department  Commune InAgglomeration IntersectionType    Weather  \\\n",
       "0         590        5              No           Y-type     Normal   \n",
       "1         590       11             Yes           Square   VeryGood   \n",
       "2         590      477             Yes           T-type     Normal   \n",
       "3         590       52             Yes   NoIntersection   VeryGood   \n",
       "4         590      477             Yes   NoIntersection     Normal   \n",
       "5         590       52             Yes   NoIntersection  LightRain   \n",
       "6         590      133             Yes   NoIntersection     Normal   \n",
       "7         590       11             Yes   NoIntersection     Normal   \n",
       "8         590      550              No   NoIntersection     Normal   \n",
       "9         590       51             Yes           X-type     Normal   \n",
       "\n",
       "                      CollisionType             PostalAddress  \n",
       "0  2Vehicles-BehindVehicles-Frontal    route des Ansereuilles  \n",
       "1                       NoCollision  Place du général de Gaul  \n",
       "2                       NoCollision            Rue  nationale  \n",
       "3                    2Vehicles-Side       30 rue Jules Guesde  \n",
       "4                    2Vehicles-Side        72 rue Victor Hugo  \n",
       "5                             Other                       D39  \n",
       "6                             Other        4 route de camphin  \n",
       "7                             Other         rue saint exupéry  \n",
       "8                             Other          rue de l'égalité  \n",
       "9  2Vehicles-BehindVehicles-Frontal   face au 59 rue de Lille  "
      ]
     },
     "metadata": {},
     "output_type": "display_data"
    },
    {
     "name": "stdout",
     "output_type": "stream",
     "text": [
      "\n",
      "Vehicles dataframe (first 10 rows):\n"
     ]
    },
    {
     "data": {
      "text/html": [
       "<div>\n",
       "<style scoped>\n",
       "    .dataframe tbody tr th:only-of-type {\n",
       "        vertical-align: middle;\n",
       "    }\n",
       "\n",
       "    .dataframe tbody tr th {\n",
       "        vertical-align: top;\n",
       "    }\n",
       "\n",
       "    .dataframe thead th {\n",
       "        text-align: right;\n",
       "    }\n",
       "</style>\n",
       "<table border=\"1\" class=\"dataframe\">\n",
       "  <thead>\n",
       "    <tr style=\"text-align: right;\">\n",
       "      <th></th>\n",
       "      <th>AccidentId</th>\n",
       "      <th>VehicleId</th>\n",
       "      <th>Direction</th>\n",
       "      <th>Category</th>\n",
       "      <th>PassengerNumber</th>\n",
       "      <th>FixedObstacle</th>\n",
       "      <th>MobileObstacle</th>\n",
       "      <th>ImpactPoint</th>\n",
       "      <th>Maneuver</th>\n",
       "    </tr>\n",
       "  </thead>\n",
       "  <tbody>\n",
       "    <tr>\n",
       "      <th>0</th>\n",
       "      <td>201800000001</td>\n",
       "      <td>A01</td>\n",
       "      <td>Unknown</td>\n",
       "      <td>Car&lt;=3.5T</td>\n",
       "      <td>0</td>\n",
       "      <td>NaN</td>\n",
       "      <td>Vehicle</td>\n",
       "      <td>RightFront</td>\n",
       "      <td>TurnToLeft</td>\n",
       "    </tr>\n",
       "    <tr>\n",
       "      <th>1</th>\n",
       "      <td>201800000001</td>\n",
       "      <td>B01</td>\n",
       "      <td>Unknown</td>\n",
       "      <td>Car&lt;=3.5T</td>\n",
       "      <td>0</td>\n",
       "      <td>NaN</td>\n",
       "      <td>Vehicle</td>\n",
       "      <td>LeftFront</td>\n",
       "      <td>NoDirectionChange</td>\n",
       "    </tr>\n",
       "    <tr>\n",
       "      <th>2</th>\n",
       "      <td>201800000002</td>\n",
       "      <td>A01</td>\n",
       "      <td>Unknown</td>\n",
       "      <td>Car&lt;=3.5T</td>\n",
       "      <td>0</td>\n",
       "      <td>NaN</td>\n",
       "      <td>Pedestrian</td>\n",
       "      <td>NaN</td>\n",
       "      <td>NoDirectionChange</td>\n",
       "    </tr>\n",
       "    <tr>\n",
       "      <th>3</th>\n",
       "      <td>201800000003</td>\n",
       "      <td>A01</td>\n",
       "      <td>Unknown</td>\n",
       "      <td>Motorbike&gt;125cm3</td>\n",
       "      <td>0</td>\n",
       "      <td>StationaryVehicle</td>\n",
       "      <td>Vehicle</td>\n",
       "      <td>Front</td>\n",
       "      <td>NoDirectionChange</td>\n",
       "    </tr>\n",
       "    <tr>\n",
       "      <th>4</th>\n",
       "      <td>201800000003</td>\n",
       "      <td>B01</td>\n",
       "      <td>Unknown</td>\n",
       "      <td>Car&lt;=3.5T</td>\n",
       "      <td>0</td>\n",
       "      <td>NaN</td>\n",
       "      <td>Vehicle</td>\n",
       "      <td>LeftSide</td>\n",
       "      <td>TurnToLeft</td>\n",
       "    </tr>\n",
       "    <tr>\n",
       "      <th>5</th>\n",
       "      <td>201800000003</td>\n",
       "      <td>C01</td>\n",
       "      <td>Unknown</td>\n",
       "      <td>Car&lt;=3.5T</td>\n",
       "      <td>0</td>\n",
       "      <td>NaN</td>\n",
       "      <td>NaN</td>\n",
       "      <td>RightSide</td>\n",
       "      <td>Parked</td>\n",
       "    </tr>\n",
       "    <tr>\n",
       "      <th>6</th>\n",
       "      <td>201800000004</td>\n",
       "      <td>A01</td>\n",
       "      <td>Unknown</td>\n",
       "      <td>Car&lt;=3.5T</td>\n",
       "      <td>0</td>\n",
       "      <td>NaN</td>\n",
       "      <td>Other</td>\n",
       "      <td>RightFront</td>\n",
       "      <td>Avoidance</td>\n",
       "    </tr>\n",
       "    <tr>\n",
       "      <th>7</th>\n",
       "      <td>201800000004</td>\n",
       "      <td>B01</td>\n",
       "      <td>Unknown</td>\n",
       "      <td>Bicycle</td>\n",
       "      <td>0</td>\n",
       "      <td>NaN</td>\n",
       "      <td>Vehicle</td>\n",
       "      <td>LeftSide</td>\n",
       "      <td>NaN</td>\n",
       "    </tr>\n",
       "    <tr>\n",
       "      <th>8</th>\n",
       "      <td>201800000005</td>\n",
       "      <td>A01</td>\n",
       "      <td>Unknown</td>\n",
       "      <td>Moped</td>\n",
       "      <td>0</td>\n",
       "      <td>NaN</td>\n",
       "      <td>Vehicle</td>\n",
       "      <td>RightFront</td>\n",
       "      <td>PassLeft</td>\n",
       "    </tr>\n",
       "    <tr>\n",
       "      <th>9</th>\n",
       "      <td>201800000005</td>\n",
       "      <td>B01</td>\n",
       "      <td>Unknown</td>\n",
       "      <td>Car&lt;=3.5T</td>\n",
       "      <td>0</td>\n",
       "      <td>NaN</td>\n",
       "      <td>Vehicle</td>\n",
       "      <td>LeftFront</td>\n",
       "      <td>Park</td>\n",
       "    </tr>\n",
       "  </tbody>\n",
       "</table>\n",
       "</div>"
      ],
      "text/plain": [
       "     AccidentId VehicleId Direction          Category  PassengerNumber  \\\n",
       "0  201800000001       A01   Unknown         Car<=3.5T                0   \n",
       "1  201800000001       B01   Unknown         Car<=3.5T                0   \n",
       "2  201800000002       A01   Unknown         Car<=3.5T                0   \n",
       "3  201800000003       A01   Unknown  Motorbike>125cm3                0   \n",
       "4  201800000003       B01   Unknown         Car<=3.5T                0   \n",
       "5  201800000003       C01   Unknown         Car<=3.5T                0   \n",
       "6  201800000004       A01   Unknown         Car<=3.5T                0   \n",
       "7  201800000004       B01   Unknown           Bicycle                0   \n",
       "8  201800000005       A01   Unknown             Moped                0   \n",
       "9  201800000005       B01   Unknown         Car<=3.5T                0   \n",
       "\n",
       "       FixedObstacle MobileObstacle ImpactPoint           Maneuver  \n",
       "0                NaN        Vehicle  RightFront         TurnToLeft  \n",
       "1                NaN        Vehicle   LeftFront  NoDirectionChange  \n",
       "2                NaN     Pedestrian         NaN  NoDirectionChange  \n",
       "3  StationaryVehicle        Vehicle       Front  NoDirectionChange  \n",
       "4                NaN        Vehicle    LeftSide         TurnToLeft  \n",
       "5                NaN            NaN   RightSide             Parked  \n",
       "6                NaN          Other  RightFront          Avoidance  \n",
       "7                NaN        Vehicle    LeftSide                NaN  \n",
       "8                NaN        Vehicle  RightFront           PassLeft  \n",
       "9                NaN        Vehicle   LeftFront               Park  "
      ]
     },
     "metadata": {},
     "output_type": "display_data"
    }
   ],
   "source": [
    "accidents_dataset_dir = path.join(kh.get_samples_dir(), \"AccidentsSummary\")\n",
    "\n",
    "accidents_file = path.join(accidents_dataset_dir, \"Accidents.txt\")\n",
    "accidents_df = pd.read_csv(accidents_file, sep=\"\\t\", encoding=\"ISO-8859-1\")\n",
    "print(f\"Accidents dataframe (first 10 rows):\")\n",
    "display(accidents_df.head(10))\n",
    "print()\n",
    "\n",
    "vehicles_file = path.join(accidents_dataset_dir, \"Vehicles.txt\")\n",
    "vehicles_df = pd.read_csv(vehicles_file, sep=\"\\t\", encoding=\"ISO-8859-1\")\n",
    "print(f\"Vehicles dataframe (first 10 rows):\")\n",
    "display(vehicles_df.head(10))"
   ]
  },
  {
   "cell_type": "markdown",
   "metadata": {},
   "source": [
    "#### Create the main feature matrix and the target vector for `AccidentsSummary`\n",
    "\n",
    "Note that the target variable is `Gravity`."
   ]
  },
  {
   "cell_type": "code",
   "execution_count": 10,
   "metadata": {
    "is_khiops_tutorial_solution": true
   },
   "outputs": [],
   "source": [
    "accidents_main_df = accidents_df.drop(\"Gravity\", axis=1)\n",
    "y_accidents_train = accidents_df[\"Gravity\"]"
   ]
  },
  {
   "cell_type": "markdown",
   "metadata": {},
   "source": [
    "#### Create the multi-table dataset specification\n",
    "\n",
    "Note the main table has one key `AccidentId` and the secondary table has two keys `AccidentId` and `VehicleId`."
   ]
  },
  {
   "cell_type": "code",
   "execution_count": 11,
   "metadata": {
    "is_khiops_tutorial_solution": true
   },
   "outputs": [],
   "source": [
    "X_accidents_train = {\n",
    "    \"main_table\": \"accidents\",\n",
    "    \"tables\": {\n",
    "        \"accidents\": (accidents_main_df, \"AccidentId\"),\n",
    "        \"vehicles\": (vehicles_df, [\"AccidentId\", \"VehicleId\"]),\n",
    "    },\n",
    "}"
   ]
  },
  {
   "cell_type": "markdown",
   "metadata": {},
   "source": [
    "#### Train a classifier with this dataset\n",
    "\n",
    "- You may choose the number of features `n_features` to be created by the Khiops AutoML engine\n",
    "- Set the number of trees to zero (`n_trees=0`)"
   ]
  },
  {
   "cell_type": "code",
   "execution_count": 12,
   "metadata": {
    "is_khiops_tutorial_solution": true
   },
   "outputs": [
    {
     "data": {
      "text/html": [
       "<style>#sk-container-id-2 {color: black;}#sk-container-id-2 pre{padding: 0;}#sk-container-id-2 div.sk-toggleable {background-color: white;}#sk-container-id-2 label.sk-toggleable__label {cursor: pointer;display: block;width: 100%;margin-bottom: 0;padding: 0.3em;box-sizing: border-box;text-align: center;}#sk-container-id-2 label.sk-toggleable__label-arrow:before {content: \"▸\";float: left;margin-right: 0.25em;color: #696969;}#sk-container-id-2 label.sk-toggleable__label-arrow:hover:before {color: black;}#sk-container-id-2 div.sk-estimator:hover label.sk-toggleable__label-arrow:before {color: black;}#sk-container-id-2 div.sk-toggleable__content {max-height: 0;max-width: 0;overflow: hidden;text-align: left;background-color: #f0f8ff;}#sk-container-id-2 div.sk-toggleable__content pre {margin: 0.2em;color: black;border-radius: 0.25em;background-color: #f0f8ff;}#sk-container-id-2 input.sk-toggleable__control:checked~div.sk-toggleable__content {max-height: 200px;max-width: 100%;overflow: auto;}#sk-container-id-2 input.sk-toggleable__control:checked~label.sk-toggleable__label-arrow:before {content: \"▾\";}#sk-container-id-2 div.sk-estimator input.sk-toggleable__control:checked~label.sk-toggleable__label {background-color: #d4ebff;}#sk-container-id-2 div.sk-label input.sk-toggleable__control:checked~label.sk-toggleable__label {background-color: #d4ebff;}#sk-container-id-2 input.sk-hidden--visually {border: 0;clip: rect(1px 1px 1px 1px);clip: rect(1px, 1px, 1px, 1px);height: 1px;margin: -1px;overflow: hidden;padding: 0;position: absolute;width: 1px;}#sk-container-id-2 div.sk-estimator {font-family: monospace;background-color: #f0f8ff;border: 1px dotted black;border-radius: 0.25em;box-sizing: border-box;margin-bottom: 0.5em;}#sk-container-id-2 div.sk-estimator:hover {background-color: #d4ebff;}#sk-container-id-2 div.sk-parallel-item::after {content: \"\";width: 100%;border-bottom: 1px solid gray;flex-grow: 1;}#sk-container-id-2 div.sk-label:hover label.sk-toggleable__label {background-color: #d4ebff;}#sk-container-id-2 div.sk-serial::before {content: \"\";position: absolute;border-left: 1px solid gray;box-sizing: border-box;top: 0;bottom: 0;left: 50%;z-index: 0;}#sk-container-id-2 div.sk-serial {display: flex;flex-direction: column;align-items: center;background-color: white;padding-right: 0.2em;padding-left: 0.2em;position: relative;}#sk-container-id-2 div.sk-item {position: relative;z-index: 1;}#sk-container-id-2 div.sk-parallel {display: flex;align-items: stretch;justify-content: center;background-color: white;position: relative;}#sk-container-id-2 div.sk-item::before, #sk-container-id-2 div.sk-parallel-item::before {content: \"\";position: absolute;border-left: 1px solid gray;box-sizing: border-box;top: 0;bottom: 0;left: 50%;z-index: -1;}#sk-container-id-2 div.sk-parallel-item {display: flex;flex-direction: column;z-index: 1;position: relative;background-color: white;}#sk-container-id-2 div.sk-parallel-item:first-child::after {align-self: flex-end;width: 50%;}#sk-container-id-2 div.sk-parallel-item:last-child::after {align-self: flex-start;width: 50%;}#sk-container-id-2 div.sk-parallel-item:only-child::after {width: 0;}#sk-container-id-2 div.sk-dashed-wrapped {border: 1px dashed gray;margin: 0 0.4em 0.5em 0.4em;box-sizing: border-box;padding-bottom: 0.4em;background-color: white;}#sk-container-id-2 div.sk-label label {font-family: monospace;font-weight: bold;display: inline-block;line-height: 1.2em;}#sk-container-id-2 div.sk-label-container {text-align: center;}#sk-container-id-2 div.sk-container {/* jupyter's `normalize.less` sets `[hidden] { display: none; }` but bootstrap.min.css set `[hidden] { display: none !important; }` so we also need the `!important` here to be able to override the default hidden behavior on the sphinx rendered scikit-learn.org. See: https://github.com/scikit-learn/scikit-learn/issues/21755 */display: inline-block !important;position: relative;}#sk-container-id-2 div.sk-text-repr-fallback {display: none;}</style><div id=\"sk-container-id-2\" class=\"sk-top-container\"><div class=\"sk-text-repr-fallback\"><pre>KhiopsClassifier(n_features=1000, n_trees=0)</pre><b>In a Jupyter environment, please rerun this cell to show the HTML representation or trust the notebook. <br />On GitHub, the HTML representation is unable to render, please try loading this page with nbviewer.org.</b></div><div class=\"sk-container\" hidden><div class=\"sk-item\"><div class=\"sk-estimator sk-toggleable\"><input class=\"sk-toggleable__control sk-hidden--visually\" id=\"sk-estimator-id-2\" type=\"checkbox\" checked><label for=\"sk-estimator-id-2\" class=\"sk-toggleable__label sk-toggleable__label-arrow\">KhiopsClassifier</label><div class=\"sk-toggleable__content\"><pre>KhiopsClassifier(n_features=1000, n_trees=0)</pre></div></div></div></div></div>"
      ],
      "text/plain": [
       "KhiopsClassifier(n_features=1000, n_trees=0)"
      ]
     },
     "execution_count": 12,
     "metadata": {},
     "output_type": "execute_result"
    }
   ],
   "source": [
    "pkc_accidents = KhiopsClassifier(n_trees=0, n_features=1000)\n",
    "pkc_accidents.fit(X_accidents_train, y_accidents_train)"
   ]
  },
  {
   "cell_type": "markdown",
   "metadata": {},
   "source": [
    "#### Print the accuracy and auc of the model\n"
   ]
  },
  {
   "cell_type": "code",
   "execution_count": 13,
   "metadata": {},
   "outputs": [
    {
     "name": "stdout",
     "output_type": "stream",
     "text": [
      "AccidentsSummary train accuracy: 0.945036\n",
      "AccidentsSummary train auc     : 0.818548\n"
     ]
    }
   ],
   "source": [
    "accidents_train_performance = (\n",
    "    pkc_accidents.model_report_.train_evaluation_report.get_snb_performance()\n",
    ")\n",
    "print(f\"AccidentsSummary train accuracy: {accidents_train_performance.accuracy}\")\n",
    "print(f\"AccidentsSummary train auc     : {accidents_train_performance.auc}\")"
   ]
  },
  {
   "cell_type": "markdown",
   "metadata": {},
   "source": [
    "#### Deploy the classifier to obtain predictions on the training data\n",
    "\n",
    "*Note that usually one deploys the model on new test data. We deploy on the train dataset to keep the tutorial simple*.\n"
   ]
  },
  {
   "cell_type": "code",
   "execution_count": 14,
   "metadata": {
    "is_khiops_tutorial_solution": true
   },
   "outputs": [
    {
     "data": {
      "text/plain": [
       "array(['NonLethal', 'NonLethal', 'NonLethal', ..., 'NonLethal',\n",
       "       'NonLethal', 'NonLethal'], dtype='<U9')"
      ]
     },
     "execution_count": 14,
     "metadata": {},
     "output_type": "execute_result"
    }
   ],
   "source": [
    "pkc_accidents.predict(X_accidents_train)"
   ]
  }
 ],
 "metadata": {
  "celltoolbar": "Edit Metadata",
  "kernelspec": {
   "display_name": "Python 3",
   "language": "python",
   "name": "python3"
  },
  "language_info": {
   "codemirror_mode": {
    "name": "ipython",
    "version": 3
   },
   "file_extension": ".py",
   "mimetype": "text/x-python",
   "name": "python",
   "nbconvert_exporter": "python",
   "pygments_lexer": "ipython3",
   "version": "3.10.0"
  }
 },
 "nbformat": 4,
 "nbformat_minor": 4
}
