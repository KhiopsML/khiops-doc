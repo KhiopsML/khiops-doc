{
 "cells": [
  {
   "cell_type": "markdown",
   "metadata": {
    "editable": true,
    "slideshow": {
     "slide_type": ""
    },
    "tags": []
   },
   "source": [
    "# Single Table Classifier with the core API\n",
    "\n",
    "On this tutorial we'll a classifier on a single table dataset."
   ]
  },
  {
   "cell_type": "code",
   "execution_count": 23,
   "metadata": {},
   "outputs": [],
   "source": [
    "import warnings\n",
    "import pandas as pd\n",
    "from khiops import core as kh\n",
    "\n",
    "# Download the sample datasets from GitHub if not available\n",
    "warnings.filterwarnings(\"ignore\", message=\"Download.*\") # Ignore dataset download warning\n",
    "download_datasets()"
   ]
  },
  {
   "cell_type": "markdown",
   "metadata": {
    "editable": true,
    "slideshow": {
     "slide_type": ""
    },
    "tags": []
   },
   "source": [
    "## The _Iris_ Dataset\n",
    "\n",
    "We'll train a classifier for the `Iris` dataset. This is a classical dataset containing data of different plants belonging to the genus _Iris_. It contains 150 records, 50 for each of the three _Iris_'s variants: _Setosa_, _Virginica_ and _Versicolor_. Each record contains the length and the width of both the petal and the sepal of the plant. The standard task, when using this dataset, is to construct a classifier for the type of the _Iris_, based on the petal and sepal characteristics."
   ]
  },
  {
   "cell_type": "markdown",
   "metadata": {
    "editable": true,
    "slideshow": {
     "slide_type": ""
    },
    "tags": []
   },
   "source": [
    "The Khiops core API is file-oriented: It reads and outputs files.\n",
    "In particular, train the classifier on the `Iris` dataset we need two input files:\n",
    "- A data table file: Usually a CSV or TSV file\n",
    "- A Khiops dictionary file: Contains the data table schema in the Khiops data dictionary DSL\n",
    "\n",
    "The `Iris` sample dataset contains already these two files. We'll store their locations into variables and take a look both files:"
   ]
  },
  {
   "cell_type": "code",
   "execution_count": 21,
   "metadata": {},
   "outputs": [
    {
     "name": "stdout",
     "output_type": "stream",
     "text": [
      "Iris table file:\n"
     ]
    },
    {
     "data": {
      "text/html": [
       "<div>\n",
       "<style scoped>\n",
       "    .dataframe tbody tr th:only-of-type {\n",
       "        vertical-align: middle;\n",
       "    }\n",
       "\n",
       "    .dataframe tbody tr th {\n",
       "        vertical-align: top;\n",
       "    }\n",
       "\n",
       "    .dataframe thead th {\n",
       "        text-align: right;\n",
       "    }\n",
       "</style>\n",
       "<table border=\"1\" class=\"dataframe\">\n",
       "  <thead>\n",
       "    <tr style=\"text-align: right;\">\n",
       "      <th></th>\n",
       "      <th>SepalLength</th>\n",
       "      <th>SepalWidth</th>\n",
       "      <th>PetalLength</th>\n",
       "      <th>PetalWidth</th>\n",
       "      <th>Class</th>\n",
       "    </tr>\n",
       "  </thead>\n",
       "  <tbody>\n",
       "    <tr>\n",
       "      <th>0</th>\n",
       "      <td>5.1</td>\n",
       "      <td>3.5</td>\n",
       "      <td>1.4</td>\n",
       "      <td>0.2</td>\n",
       "      <td>Iris-setosa</td>\n",
       "    </tr>\n",
       "    <tr>\n",
       "      <th>1</th>\n",
       "      <td>4.9</td>\n",
       "      <td>3.0</td>\n",
       "      <td>1.4</td>\n",
       "      <td>0.2</td>\n",
       "      <td>Iris-setosa</td>\n",
       "    </tr>\n",
       "    <tr>\n",
       "      <th>2</th>\n",
       "      <td>4.7</td>\n",
       "      <td>3.2</td>\n",
       "      <td>1.3</td>\n",
       "      <td>0.2</td>\n",
       "      <td>Iris-setosa</td>\n",
       "    </tr>\n",
       "    <tr>\n",
       "      <th>3</th>\n",
       "      <td>4.6</td>\n",
       "      <td>3.1</td>\n",
       "      <td>1.5</td>\n",
       "      <td>0.2</td>\n",
       "      <td>Iris-setosa</td>\n",
       "    </tr>\n",
       "    <tr>\n",
       "      <th>4</th>\n",
       "      <td>5.0</td>\n",
       "      <td>3.6</td>\n",
       "      <td>1.4</td>\n",
       "      <td>0.2</td>\n",
       "      <td>Iris-setosa</td>\n",
       "    </tr>\n",
       "  </tbody>\n",
       "</table>\n",
       "</div>"
      ],
      "text/plain": [
       "   SepalLength  SepalWidth  PetalLength  PetalWidth        Class\n",
       "0          5.1         3.5          1.4         0.2  Iris-setosa\n",
       "1          4.9         3.0          1.4         0.2  Iris-setosa\n",
       "2          4.7         3.2          1.3         0.2  Iris-setosa\n",
       "3          4.6         3.1          1.5         0.2  Iris-setosa\n",
       "4          5.0         3.6          1.4         0.2  Iris-setosa"
      ]
     },
     "metadata": {},
     "output_type": "display_data"
    },
    {
     "name": "stdout",
     "output_type": "stream",
     "text": [
      "Iris dictionary file:\n",
      "Dictionary\tIris\n",
      "{\n",
      "\tNumerical\tSepalLength\t;\t\n",
      "\tNumerical\tSepalWidth\t;\t\n",
      "\tNumerical\tPetalLength\t;\t\n",
      "\tNumerical\tPetalWidth\t;\t\n",
      "\tCategorical\tClass\t;\t\n",
      "};\n"
     ]
    }
   ],
   "source": [
    "# Store the locations of the `Iris` dataset files\n",
    "iris_table_path = f\"{kh.get_samples_dir()}/Iris/Iris.txt\"\n",
    "iris_kdic_path = f\"{kh.get_samples_dir()}/Iris/Iris.kdic\"\n",
    "\n",
    "# Print the first lines of the data file\n",
    "print(\"Iris table file:\")\n",
    "display(pd.read_csv(iris_table_path, sep=\"\\t\").head(5))\n",
    "\n",
    "# Print the Khiops dictionary file\n",
    "print(\"Iris dictionary file:\", end=\"\")\n",
    "with open(iris_kdic_path) as iris_kdic_file:\n",
    "    print(iris_kdic_file.read(), end=\"\")"
   ]
  },
  {
   "cell_type": "markdown",
   "metadata": {
    "editable": true,
    "slideshow": {
     "slide_type": ""
    },
    "tags": []
   },
   "source": [
    "Note that the columns described in the dictionary file are coherent with those in the data file. For this training task the features are the first four columns which are all numerical, whereas the target is the Categorical `class` column."
   ]
  },
  {
   "cell_type": "markdown",
   "metadata": {
    "editable": true,
    "slideshow": {
     "slide_type": ""
    },
    "tags": []
   },
   "source": [
    "## Training the Classifier\n",
    "\n",
    "Let's now train the classifier with `train_predictor` Khiops core API function: "
   ]
  },
  {
   "cell_type": "code",
   "execution_count": 24,
   "metadata": {},
   "outputs": [],
   "source": [
    "report_path, model_kdic_path = kh.train_predictor(\n",
    "    iris_kdic_path,  # Dictionary file path\n",
    "    \"Iris\",          # Name of the data dictionary for the table\n",
    "    iris_table_path, # Data table file path,\n",
    "    \"Class\",         # Target column\n",
    "    \"./st_results\"   # Directory to store the target files\n",
    ")"
   ]
  },
  {
   "cell_type": "markdown",
   "metadata": {
    "editable": true,
    "slideshow": {
     "slide_type": ""
    },
    "tags": []
   },
   "source": [
    "The `train_predictor` method by default splits the data in 70% train and 30% test; it uses the test split evaluate the model. The method returns the paths of its two output files:\n",
    "- A report file containing various informations (including evaluation metrics on the train/test split), which can be explored with the Khiops Visualization app or used the Khiops core API.\n",
    "- A Khiops dictionary file containing the classifier model\n",
    "\n",
    "As you can see, Khiops dictionary files may be used to encode classifiers. In fact, they are a very powerful language to transform databases. You may learn more about them [here](/tutorials/kdic_intro)."
   ]
  },
  {
   "cell_type": "markdown",
   "metadata": {
    "editable": true,
    "slideshow": {
     "slide_type": ""
    },
    "tags": []
   },
   "source": [
    "## Printing the accuracy and AUC of the model\n",
    "\n",
    "Khiops calculates evaluation metrics for the train/test split datasets. We access them by loading the report file into an `AnalysisResults` object. Let's check this out:"
   ]
  },
  {
   "cell_type": "code",
   "execution_count": 25,
   "metadata": {},
   "outputs": [],
   "source": [
    "model_report = kh.read_analysis_results_file(report_path)\n",
    "\n",
    "iris_train_performance = model_report.train_evaluation_report.get_snb_performance()\n",
    "iris_test_performance = model_report.test_evaluation_report.get_snb_performance()"
   ]
  },
  {
   "cell_type": "markdown",
   "metadata": {
    "editable": true,
    "slideshow": {
     "slide_type": ""
    },
    "tags": []
   },
   "source": [
    "The `iris_train_performance` and `iris_test_performance` are of class `PredictorPerformance` which has `accuracy` and `auc` attributes:"
   ]
  },
  {
   "cell_type": "code",
   "execution_count": 26,
   "metadata": {},
   "outputs": [
    {
     "name": "stdout",
     "output_type": "stream",
     "text": [
      "Iris train accuracy: 0.980952\n",
      "Iris train AUC     : 0.997868\n",
      "Iris test accuracy : 0.980952\n",
      "Iris test  AUC     : 0.997868\n"
     ]
    }
   ],
   "source": [
    "print(f\"Iris train accuracy: {iris_train_performance.accuracy}\")\n",
    "print(f\"Iris train AUC     : {iris_train_performance.auc}\")\n",
    "print(f\"Iris test accuracy : {iris_train_performance.accuracy}\")\n",
    "print(f\"Iris test  AUC     : {iris_train_performance.auc}\")"
   ]
  },
  {
   "cell_type": "markdown",
   "metadata": {
    "editable": true,
    "slideshow": {
     "slide_type": ""
    },
    "tags": []
   },
   "source": [
    "The `PredictorPerformance` objects have also a confusion matrix attribute:"
   ]
  },
  {
   "cell_type": "code",
   "execution_count": 27,
   "metadata": {},
   "outputs": [
    {
     "name": "stdout",
     "output_type": "stream",
     "text": [
      "Iris train confusion matrix:\n"
     ]
    },
    {
     "data": {
      "text/html": [
       "<div>\n",
       "<style scoped>\n",
       "    .dataframe tbody tr th:only-of-type {\n",
       "        vertical-align: middle;\n",
       "    }\n",
       "\n",
       "    .dataframe tbody tr th {\n",
       "        vertical-align: top;\n",
       "    }\n",
       "\n",
       "    .dataframe thead th {\n",
       "        text-align: right;\n",
       "    }\n",
       "</style>\n",
       "<table border=\"1\" class=\"dataframe\">\n",
       "  <thead>\n",
       "    <tr style=\"text-align: right;\">\n",
       "      <th></th>\n",
       "      <th>Iris-setosa</th>\n",
       "      <th>Iris-versicolor</th>\n",
       "      <th>Iris-virginica</th>\n",
       "    </tr>\n",
       "  </thead>\n",
       "  <tbody>\n",
       "    <tr>\n",
       "      <th>Iris-setosa</th>\n",
       "      <td>38</td>\n",
       "      <td>0</td>\n",
       "      <td>0</td>\n",
       "    </tr>\n",
       "    <tr>\n",
       "      <th>Iris-versicolor</th>\n",
       "      <td>0</td>\n",
       "      <td>31</td>\n",
       "      <td>1</td>\n",
       "    </tr>\n",
       "    <tr>\n",
       "      <th>Iris-virginica</th>\n",
       "      <td>0</td>\n",
       "      <td>1</td>\n",
       "      <td>34</td>\n",
       "    </tr>\n",
       "  </tbody>\n",
       "</table>\n",
       "</div>"
      ],
      "text/plain": [
       "                 Iris-setosa  Iris-versicolor  Iris-virginica\n",
       "Iris-setosa               38                0               0\n",
       "Iris-versicolor            0               31               1\n",
       "Iris-virginica             0                1              34"
      ]
     },
     "metadata": {},
     "output_type": "display_data"
    },
    {
     "name": "stdout",
     "output_type": "stream",
     "text": [
      "Iris test confusion matrix:\n"
     ]
    },
    {
     "data": {
      "text/html": [
       "<div>\n",
       "<style scoped>\n",
       "    .dataframe tbody tr th:only-of-type {\n",
       "        vertical-align: middle;\n",
       "    }\n",
       "\n",
       "    .dataframe tbody tr th {\n",
       "        vertical-align: top;\n",
       "    }\n",
       "\n",
       "    .dataframe thead th {\n",
       "        text-align: right;\n",
       "    }\n",
       "</style>\n",
       "<table border=\"1\" class=\"dataframe\">\n",
       "  <thead>\n",
       "    <tr style=\"text-align: right;\">\n",
       "      <th></th>\n",
       "      <th>Iris-setosa</th>\n",
       "      <th>Iris-versicolor</th>\n",
       "      <th>Iris-virginica</th>\n",
       "    </tr>\n",
       "  </thead>\n",
       "  <tbody>\n",
       "    <tr>\n",
       "      <th>Iris-setosa</th>\n",
       "      <td>12</td>\n",
       "      <td>0</td>\n",
       "      <td>0</td>\n",
       "    </tr>\n",
       "    <tr>\n",
       "      <th>Iris-versicolor</th>\n",
       "      <td>0</td>\n",
       "      <td>18</td>\n",
       "      <td>2</td>\n",
       "    </tr>\n",
       "    <tr>\n",
       "      <th>Iris-virginica</th>\n",
       "      <td>0</td>\n",
       "      <td>0</td>\n",
       "      <td>13</td>\n",
       "    </tr>\n",
       "  </tbody>\n",
       "</table>\n",
       "</div>"
      ],
      "text/plain": [
       "                 Iris-setosa  Iris-versicolor  Iris-virginica\n",
       "Iris-setosa               12                0               0\n",
       "Iris-versicolor            0               18               2\n",
       "Iris-virginica             0                0              13"
      ]
     },
     "metadata": {},
     "output_type": "display_data"
    }
   ],
   "source": [
    "iris_classes = iris_train_performance.confusion_matrix.values\n",
    "iris_train_confusion_matrix = pd.DataFrame(\n",
    "    iris_train_performance.confusion_matrix.matrix,\n",
    "    columns=iris_classes,\n",
    "    index=iris_classes,\n",
    ")\n",
    "iris_test_confusion_matrix = pd.DataFrame(\n",
    "    iris_test_performance.confusion_matrix.matrix,\n",
    "    columns=iris_classes,\n",
    "    index=iris_classes,\n",
    ")\n",
    "print(\"Iris train confusion matrix:\")\n",
    "display(iris_train_confusion_matrix)\n",
    "\n",
    "print(\"Iris test confusion matrix:\")\n",
    "display(iris_test_confusion_matrix)"
   ]
  },
  {
   "cell_type": "markdown",
   "metadata": {
    "editable": true,
    "slideshow": {
     "slide_type": ""
    },
    "tags": []
   },
   "source": [
    "## Deploying the Classifier\n",
    "We are now going to deploy the `Iris` classifier that we have just trained.\n",
    "\n",
    "To this end we use the model dictionary file that the `train_predictor` function created in conjunction the the `deploy_model` core API function. Note that the name of the dictionary for the model is `SNB_Iris`.\n",
    "\n",
    "For simplicity, we'll just deploy on the whole data table file (one usually would do this on new data):"
   ]
  },
  {
   "cell_type": "code",
   "execution_count": 28,
   "metadata": {},
   "outputs": [],
   "source": [
    "iris_deployed_path = \"./st_results/iris_deployed.txt\"\n",
    "kh.deploy_model(\n",
    "    model_kdic_path,     # Path of the model dictionary file\n",
    "    \"SNB_Iris\",          # Name of the model dictionary\n",
    "    iris_table_path,     # Path of the table to deploy the model\n",
    "    iris_deployed_path,  # Path of the output (deployed) file\n",
    ")"
   ]
  },
  {
   "cell_type": "markdown",
   "metadata": {
    "editable": true,
    "slideshow": {
     "slide_type": ""
    },
    "tags": []
   },
   "source": [
    "The deployed model is in the path in the variable `iris_deployed_path`, let's have a look at it"
   ]
  },
  {
   "cell_type": "code",
   "execution_count": 29,
   "metadata": {},
   "outputs": [
    {
     "data": {
      "text/html": [
       "<div>\n",
       "<style scoped>\n",
       "    .dataframe tbody tr th:only-of-type {\n",
       "        vertical-align: middle;\n",
       "    }\n",
       "\n",
       "    .dataframe tbody tr th {\n",
       "        vertical-align: top;\n",
       "    }\n",
       "\n",
       "    .dataframe thead th {\n",
       "        text-align: right;\n",
       "    }\n",
       "</style>\n",
       "<table border=\"1\" class=\"dataframe\">\n",
       "  <thead>\n",
       "    <tr style=\"text-align: right;\">\n",
       "      <th></th>\n",
       "      <th>PredictedClass</th>\n",
       "      <th>ProbClassIris-setosa</th>\n",
       "      <th>ProbClassIris-versicolor</th>\n",
       "      <th>ProbClassIris-virginica</th>\n",
       "    </tr>\n",
       "  </thead>\n",
       "  <tbody>\n",
       "    <tr>\n",
       "      <th>0</th>\n",
       "      <td>Iris-setosa</td>\n",
       "      <td>0.98819</td>\n",
       "      <td>0.008858</td>\n",
       "      <td>0.002951</td>\n",
       "    </tr>\n",
       "    <tr>\n",
       "      <th>1</th>\n",
       "      <td>Iris-setosa</td>\n",
       "      <td>0.98819</td>\n",
       "      <td>0.008858</td>\n",
       "      <td>0.002951</td>\n",
       "    </tr>\n",
       "    <tr>\n",
       "      <th>2</th>\n",
       "      <td>Iris-setosa</td>\n",
       "      <td>0.98819</td>\n",
       "      <td>0.008858</td>\n",
       "      <td>0.002951</td>\n",
       "    </tr>\n",
       "    <tr>\n",
       "      <th>3</th>\n",
       "      <td>Iris-setosa</td>\n",
       "      <td>0.98819</td>\n",
       "      <td>0.008858</td>\n",
       "      <td>0.002951</td>\n",
       "    </tr>\n",
       "    <tr>\n",
       "      <th>4</th>\n",
       "      <td>Iris-setosa</td>\n",
       "      <td>0.98819</td>\n",
       "      <td>0.008858</td>\n",
       "      <td>0.002951</td>\n",
       "    </tr>\n",
       "    <tr>\n",
       "      <th>5</th>\n",
       "      <td>Iris-setosa</td>\n",
       "      <td>0.98819</td>\n",
       "      <td>0.008858</td>\n",
       "      <td>0.002951</td>\n",
       "    </tr>\n",
       "    <tr>\n",
       "      <th>6</th>\n",
       "      <td>Iris-setosa</td>\n",
       "      <td>0.98819</td>\n",
       "      <td>0.008858</td>\n",
       "      <td>0.002951</td>\n",
       "    </tr>\n",
       "    <tr>\n",
       "      <th>7</th>\n",
       "      <td>Iris-setosa</td>\n",
       "      <td>0.98819</td>\n",
       "      <td>0.008858</td>\n",
       "      <td>0.002951</td>\n",
       "    </tr>\n",
       "    <tr>\n",
       "      <th>8</th>\n",
       "      <td>Iris-setosa</td>\n",
       "      <td>0.98819</td>\n",
       "      <td>0.008858</td>\n",
       "      <td>0.002951</td>\n",
       "    </tr>\n",
       "    <tr>\n",
       "      <th>9</th>\n",
       "      <td>Iris-setosa</td>\n",
       "      <td>0.98819</td>\n",
       "      <td>0.008858</td>\n",
       "      <td>0.002951</td>\n",
       "    </tr>\n",
       "  </tbody>\n",
       "</table>\n",
       "</div>"
      ],
      "text/plain": [
       "  PredictedClass  ProbClassIris-setosa  ProbClassIris-versicolor  \\\n",
       "0    Iris-setosa               0.98819                  0.008858   \n",
       "1    Iris-setosa               0.98819                  0.008858   \n",
       "2    Iris-setosa               0.98819                  0.008858   \n",
       "3    Iris-setosa               0.98819                  0.008858   \n",
       "4    Iris-setosa               0.98819                  0.008858   \n",
       "5    Iris-setosa               0.98819                  0.008858   \n",
       "6    Iris-setosa               0.98819                  0.008858   \n",
       "7    Iris-setosa               0.98819                  0.008858   \n",
       "8    Iris-setosa               0.98819                  0.008858   \n",
       "9    Iris-setosa               0.98819                  0.008858   \n",
       "\n",
       "   ProbClassIris-virginica  \n",
       "0                 0.002951  \n",
       "1                 0.002951  \n",
       "2                 0.002951  \n",
       "3                 0.002951  \n",
       "4                 0.002951  \n",
       "5                 0.002951  \n",
       "6                 0.002951  \n",
       "7                 0.002951  \n",
       "8                 0.002951  \n",
       "9                 0.002951  "
      ]
     },
     "metadata": {},
     "output_type": "display_data"
    }
   ],
   "source": [
    "display(pd.read_csv(iris_deployed_path, sep=\"\\t\").head(10))"
   ]
  },
  {
   "cell_type": "markdown",
   "metadata": {
    "editable": true,
    "slideshow": {
     "slide_type": ""
    },
    "tags": []
   },
   "source": [
    "The deployed data table file contains four columns\n",
    "- `PredictedClass`: Which contains the class prediction\n",
    "- `ProbClassIris-setosa`, `ProbClassIris-versicolor` and `ProbClassIris-virginica`: Which contain the probability of each class of `Iris`."
   ]
  }
 ],
 "metadata": {
  "language_info": {
   "name": "python"
  }
 },
 "nbformat": 4,
 "nbformat_minor": 4
}
